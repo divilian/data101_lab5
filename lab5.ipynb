{
  "cells": [
    {
      "cell_type": "markdown",
      "metadata": {
        "collapsed": false,
        "id": "0_6fxm5SaYTa"
      },
      "source": [
        "# Lab Five\n",
        "Welcome to DATA 101 lab five! This is a **partner-based** lab, to be completed by midnight at Halloween. (ooo, spooky)\n",
        "\n",
        "If you don't have a partner, but would like one, email me right away and I'll assign you to someone!"
      ]
    },
    {
      "cell_type": "markdown",
      "source": [
        "(Run the cell below before you do anything else.)"
      ],
      "metadata": {
        "id": "AkRAJySAhnfW"
      }
    },
    {
      "cell_type": "code",
      "source": [
        "import os, subprocess, pathlib\n",
        "\n",
        "REPO_URL = \"https://github.com/divilian/data101_lab5.git\"\n",
        "REPO_DIR = pathlib.Path(\"/content/data101_lab5\")\n",
        "\n",
        "if not REPO_DIR.exists():\n",
        "    # First time in this runtime: shallow clone\n",
        "    subprocess.run([\"git\", \"clone\", \"--depth\", \"1\", REPO_URL, str(REPO_DIR)], check=True)\n",
        "else:\n",
        "    # Already cloned in this runtime: make sure it's clean and up to date\n",
        "    subprocess.run([\"git\", \"-C\", str(REPO_DIR), \"fetch\", \"origin\", \"main\"], check=True)\n",
        "    subprocess.run([\"git\", \"-C\", str(REPO_DIR), \"checkout\", \"-f\", \"main\"], check=True)\n",
        "    subprocess.run([\"git\", \"-C\", str(REPO_DIR), \"reset\", \"--hard\", \"origin/main\"], check=True)\n",
        "\n",
        "# Work inside the repo from here on out\n",
        "%cd $REPO_DIR\n"
      ],
      "metadata": {
        "id": "rcaUa4VKNCPY"
      },
      "execution_count": null,
      "outputs": []
    },
    {
      "cell_type": "markdown",
      "metadata": {
        "collapsed": false,
        "id": "TbJUA782aYTb"
      },
      "source": [
        "# Who are you people, anyway?\n",
        "In the cell below, create a **Pandas data frame** called \"`all_about_us`\" with two rows and five columns. The columns should be called `first`, `last`, `truth`, `lie`, and `haircuts`, and there should be one row for each partner. The columns in each row should contain the first and last name of the team member, one odd real-life fact about them (six words or less), one real-life non-fact about them that would be cool if it were true (six words or less), and the approximate estimated number of haircuts the team member has undergone in his/her lifetime. There should be no special \"index\" column for this `DataFrame`; just the default index (`0` and `1`) will do."
      ]
    },
    {
      "cell_type": "code",
      "execution_count": null,
      "metadata": {
        "id": "Ecm-i7SNaYTc"
      },
      "outputs": [],
      "source": []
    },
    {
      "cell_type": "markdown",
      "metadata": {
        "collapsed": false,
        "id": "4HnFMdZsaYTc"
      },
      "source": [
        "Print your lovely `all_about_us` `DataFrame` to the screen."
      ]
    },
    {
      "cell_type": "code",
      "execution_count": null,
      "metadata": {
        "id": "ZPW6ATL9aYTd"
      },
      "outputs": [],
      "source": []
    },
    {
      "cell_type": "markdown",
      "metadata": {
        "collapsed": false,
        "id": "Bh2H20ZAaYTd"
      },
      "source": [
        "# Binge watching\n",
        "The file \"`data/tv.csv`\" contains the top-rated 25 television shows in history, according to IMDB's viewers. The keys are the show titles, and the values are the average ratings. Load this into a Pandas **`Series`** (not `DataFrame`) called `tv`. (If you do this right, the keys of the `Series` should be the names of the shows, and the values of the `Series` should be the average ratings.)"
      ]
    },
    {
      "cell_type": "code",
      "execution_count": null,
      "metadata": {
        "id": "fDpUpEZ0aYTd"
      },
      "outputs": [],
      "source": []
    },
    {
      "cell_type": "markdown",
      "metadata": {
        "collapsed": false,
        "id": "20dMgzSBaYTd"
      },
      "source": [
        "Restrict your `tv` `Series` to only have the **top 10** rated shows. Then, add a new key/value pair to your `Series` for the show \"Keeping Up with the Kardashians\" (the lowest rated show in history, with an average IMDB rating of 2.5). There should now be exactly *eleven* key/value pairs in your `Series`."
      ]
    },
    {
      "cell_type": "code",
      "execution_count": null,
      "metadata": {
        "id": "0tGMd3j5aYTe"
      },
      "outputs": [],
      "source": []
    },
    {
      "cell_type": "markdown",
      "metadata": {
        "collapsed": false,
        "id": "zvipF01JaYTe"
      },
      "source": [
        "Create a labeled barplot that shows (only) the average rating for the **top 10** shows, **plus** \"Keeping Up with the Kardashians,\" in order from greatest (left) to suckiest (right). (To be clear, there should be 11 bars in your plot, with the tallest one (Planet Earth) on the far left and the shortest one (Kardashians) on the far right.)\n",
        "\n",
        "(Btw, to avoid wasting time, be careful about your capitalization on the Kardashians show. The checker script is looking for exactly the title as written above: three of the words are capitalized, and the other two are not.)"
      ]
    },
    {
      "cell_type": "code",
      "execution_count": null,
      "metadata": {
        "id": "P8x_UiXtaYTe"
      },
      "outputs": [],
      "source": []
    },
    {
      "cell_type": "markdown",
      "metadata": {
        "collapsed": false,
        "id": "iDvXexHBaYTe"
      },
      "source": [
        "Finally, each lab partner should vote for their favorite show **of these top 25 rated shows** (or \"Kardashians\"). Express your votes in a two-element NumPy array called `tv_votes` which has the titles of the two shows you are voting for. (Yes, both team members may vote for the same show if they wish, by simply including the same title in both elements of `tv_votes`.)"
      ]
    },
    {
      "cell_type": "code",
      "execution_count": null,
      "metadata": {
        "id": "DahdZCdBaYTe"
      },
      "outputs": [],
      "source": []
    },
    {
      "cell_type": "markdown",
      "metadata": {
        "collapsed": false,
        "id": "K2sebN9_aYTe"
      },
      "source": [
        "# Women's rights are human rights\n",
        "\n",
        "_Trigger warning: this data set describes acts of domestic violence, and perceptions towards those acts._\n",
        "\n",
        "The file `data/violence.csv` contains aggregate survey information about how various people groups in Africa and Asia view acts of violence towards women and girls. (See https://data.world/makeovermonday/2020w10 for details.) There are eight columns in this CSV file, which are explained in [the data dictionary](http://stephendavies.org/violence.pdf).\n",
        "\n",
        "First, configure Pandas to let you see wider `DataFrame`s by typing and running these two lines:\n",
        "\n",
        "```\n",
        "pd.set_option(\"display.max_columns\",8)\n",
        "pd.set_option(\"display.width\",200)\n",
        "```\n",
        "\n",
        "(If your `DataFrames` look formatted strangely with the above settings, you may have to experiment with the numbers a bit.)"
      ]
    },
    {
      "cell_type": "code",
      "execution_count": null,
      "metadata": {
        "id": "hH5uihC2aYTf"
      },
      "outputs": [],
      "source": []
    },
    {
      "cell_type": "markdown",
      "metadata": {
        "collapsed": false,
        "id": "CVwKnjdnaYTf"
      },
      "source": [
        "Next, read the file into a `DataFrame` called \"`v`\" (for \"violence\"). (Don't set any particular column as the index, since none of them are uniquely row-identifying.)"
      ]
    },
    {
      "cell_type": "code",
      "execution_count": null,
      "metadata": {
        "id": "38FzoLxAaYTf"
      },
      "outputs": [],
      "source": []
    },
    {
      "cell_type": "markdown",
      "metadata": {
        "collapsed": false,
        "id": "EEO8-NdsaYTf"
      },
      "source": [
        "Print out your `DataFrame` and take a moment to run your eyeballs across it, to get an idea of what it contains. Run a few `.value_counts()` and `.mean()` operations to get a feel for its contents. Refer to the information in [the data dictionary](http://stephendavies.org/violence.pdf) as you work. Then, to make your life easier (and save typing), you may rename any columns you wish."
      ]
    },
    {
      "cell_type": "code",
      "execution_count": null,
      "metadata": {
        "id": "JsOpNYZiaYTf"
      },
      "outputs": [],
      "source": []
    },
    {
      "cell_type": "markdown",
      "metadata": {
        "collapsed": false,
        "id": "BANjZdU8aYTf"
      },
      "source": [
        "How many nations are represented in this survey? Store the value in an int variable called `num_countries`."
      ]
    },
    {
      "cell_type": "code",
      "execution_count": null,
      "metadata": {
        "id": "oaLV2x9yaYTf"
      },
      "outputs": [],
      "source": []
    },
    {
      "cell_type": "markdown",
      "metadata": {
        "collapsed": false,
        "id": "a79d7-whaYTg"
      },
      "source": [
        "What was the earliest year in which this survey was conducted? And what was the latest year? Store these answers in int variables called `earliest_year` and `latest_year`, respectively."
      ]
    },
    {
      "cell_type": "code",
      "execution_count": null,
      "metadata": {
        "id": "e-VH9hQHaYTg"
      },
      "outputs": [],
      "source": []
    },
    {
      "cell_type": "markdown",
      "metadata": {
        "collapsed": false,
        "id": "3j-ZjN61aYTg"
      },
      "source": [
        "Overall, across all countries and years, which of the surveyed reasons do women most commonly agree justifies a husband hitting or beating his wife? And which of the reasons do women _least_ commonly agree justifies this behavior? Store your answers in string variables called `most_justifiable_reason` and `least_justifiable_reason`. (By the way, \"for at least one specific reason\" is **not** the correct answer for either of these. Rows with that value are general rows that aggregate _all_ of the different reasons for a particular country/demographic group.)"
      ]
    },
    {
      "cell_type": "code",
      "execution_count": null,
      "metadata": {
        "id": "uvaoqEjTaYTg"
      },
      "outputs": [],
      "source": []
    },
    {
      "cell_type": "markdown",
      "metadata": {
        "collapsed": false,
        "id": "q3Dcq_vdaYTg"
      },
      "source": [
        "According to this survey, which country is the most dangerous for married women? And which country is the safest? (I'm defining \"most dangerous\" as the country with the highest percentage of respondents (of either sex) who think it is justifiable for a man to beat his wife for any reason.) Store your answers in two string variables called `most_dangerous_country` and `safest_country`.\n",
        "\n",
        "(Note: obviously the notions of \"most dangerous\" and \"safest\" involve far more things than just domestic violence, but I need variable names that are reasonably short to type.)"
      ]
    },
    {
      "cell_type": "code",
      "execution_count": null,
      "metadata": {
        "id": "uBX1X_gdaYTg"
      },
      "outputs": [],
      "source": []
    },
    {
      "cell_type": "markdown",
      "metadata": {
        "collapsed": false,
        "id": "dvgaaf9WaYTg"
      },
      "source": [
        "In these nations, who thinks wife-beating is more justified: men, or women? Or is there no statistically significant difference between the two? (Use only the \"for any specific reason\" rows to answer this question, since we're considering wife-beating in general here, not wife-beating specifically for arguing or burning food or whatever.) Show a plot, perform a statistical test, and write a couple of sentences in a Markdown cell that answer this question."
      ]
    },
    {
      "cell_type": "code",
      "execution_count": null,
      "metadata": {
        "id": "lBhc3e66aYTg"
      },
      "outputs": [],
      "source": []
    },
    {
      "cell_type": "markdown",
      "metadata": {
        "collapsed": false,
        "id": "Z_if_7UQaYTg"
      },
      "source": [
        "In these nations, do married women, or unmarried women, more often believe that wife-beating is sometimes justified? Or is there no statistically significant difference between the two?  (Use only the \"for any specific reason\" rows to answer this question, since we're considering wife-beating in general here, not wife-beating specifically for arguing or burning food or whatever. Also, by \"married\" I mean \"married or co-habitating,\" and by \"unmarried\" I mean \"never married.\") Show a plot, perform a statistical test, and write a couple of sentences in a Markdown cell that answer this question."
      ]
    },
    {
      "cell_type": "code",
      "execution_count": null,
      "metadata": {
        "id": "eOvexljhaYTh"
      },
      "outputs": [],
      "source": []
    },
    {
      "cell_type": "markdown",
      "metadata": {
        "collapsed": false,
        "id": "PXcs4fzwaYTh"
      },
      "source": [
        "# Make mine Supreme\n",
        "\n",
        "Nominees to the Supreme Court these days face highly contentious confirmation hearings. Ketanji Brown Jackson, the first black woman to join the Court, was confirmed by a 53-47 vote. A couple years ago, Amy Coney Barrett was confirmed by a 52-48 Senate vote, strictly along party lines (all Republicans voted in favor, and all Democrats voted against). The year before, Brett Kavanaugh was confirmed 50-48 in similar fashion.\n",
        "\n",
        "The two justices that Barrett and Kavanaugh replaced -- Ruth Bader Ginsburg and Antonin Scalia -- were selected for the court decades ago. It might surprise you to learn (as it did me) that RBG, a hero to the Left, was confirmed by a Senate vote of 96-3. And Scalia, possibly the most conservative justice in the nation's history, was confirmed 98-0.\n",
        "\n",
        "This makes me wonder whether Supreme Court confirmations in general are getting more polarized and more contentious in recent years. Are they? Use the file `data/supreme.csv` (pulled from https://www.senate.gov/legislative/nominations/SupremeCourtNominations1789present.htm) to find out.\n",
        "\n",
        "(Yep, this is the end of the instructions. You and your partner are going to need to put your heads together and do some deep data science thinking to figure out how to apply what you've learned, and to answer this question fully and convincingly. You may produce plot(s), run statistical test(s), and write explanatory text in a Markdown cell that presents your conclusions.)"
      ]
    },
    {
      "cell_type": "code",
      "execution_count": null,
      "metadata": {
        "id": "54arnOFaaYTh"
      },
      "outputs": [],
      "source": [
        "\n"
      ]
    },
    {
      "cell_type": "markdown",
      "metadata": {
        "collapsed": false,
        "id": "HaPEHl6PaYTh"
      },
      "source": [
        "# Check out\n",
        "Nice job! Now run the test script below to see if it all worked! (If not, go back and fix your errors.)"
      ]
    },
    {
      "cell_type": "code",
      "execution_count": null,
      "metadata": {
        "id": "MFJgc1KPaYTh"
      },
      "outputs": [],
      "source": [
        "import requests\n",
        "exec(requests.get(\"http://stephendavies.org/lab5checker.py\").content)"
      ]
    },
    {
      "cell_type": "code",
      "execution_count": null,
      "metadata": {
        "id": "WltqYYbOaYTh"
      },
      "outputs": [],
      "source": []
    }
  ],
  "metadata": {
    "kernelspec": {
      "display_name": "Python 3",
      "name": "python3"
    },
    "language_info": {
      "name": "python"
    },
    "colab": {
      "provenance": []
    }
  },
  "nbformat": 4,
  "nbformat_minor": 0
}
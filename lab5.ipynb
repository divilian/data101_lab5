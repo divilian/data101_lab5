{
 "cells": [
  {
   "cell_type": "markdown",
   "metadata": {
    "collapsed": false
   },
   "source": [
    "# Lab Five\n",
    "Welcome to DATA 101 lab five! This is a **partner-based** lab, to be collected on **Thursday, November 5th at 11:59pm**. Good luck!"
   ]
  },
  {
   "cell_type": "markdown",
   "metadata": {
    "collapsed": false
   },
   "source": [
    "# Who are you people, anyway?\n",
    "In the cell below, create a **Pandas data frame** called \"`all_about_us`\" with two rows and five columns. The columns should be called `first`, `last`, `truth`, `lie`, and `haircuts`, and there should be one row for each partner. The columns in each row should contain the first and last name of the team member, one odd real-life fact about them (six words or less), one real-life non-fact about them that would be cool if it were true (six words or less), and the approximate estimated number of haircuts the team member has undergone in his/her lifetime. There should be no special \"index\" column for this `DataFrame`; just the default index (`0` and `1`) will do.\n",
    "\n",
    "To do this, you'll want to create a **CSV file** called (say) \"`all_about_us.csv`\", and then read it into Pandas as usual. Here's how:\n",
    "1. Go to the CoCalc Files tab (probably in another browser window, so you can still read these instructions!)\n",
    "2. Type \"`all_about_us.csv`\" directly in the \"Search or create file\" text box in the upper-left.\n",
    "3. Press the \"Enter\" key.\n",
    "4. This will open up a new tab for your \"`all_about_us.csv`\" file. Type in the contents, and press \"Save.\"\n",
    "5. You should now be able to use `pd.read_csv()` as you normally do, with \"`all_about_us.csv`\" as the filename.\n",
    "\n",
    "(Note: _do_ follow the above steps precisely. There is no \"`.csv`\" file type on their little \"+New\" button menu, and that's okay. If you follow the above steps exactly, you will successfully create a `.csv` file.)"
   ]
  },
  {
   "cell_type": "code",
   "execution_count": 0,
   "metadata": {
    "collapsed": false
   },
   "outputs": [
   ],
   "source": [
   ]
  },
  {
   "cell_type": "markdown",
   "metadata": {
    "collapsed": false
   },
   "source": [
    "Print your lovely `all_about_us` `DataFrame` to the screen."
   ]
  },
  {
   "cell_type": "code",
   "execution_count": 0,
   "metadata": {
    "collapsed": false
   },
   "outputs": [
   ],
   "source": [
   ]
  },
  {
   "cell_type": "markdown",
   "metadata": {
    "collapsed": false
   },
   "source": [
    "# Binge watching\n",
    "The file \"`tv.csv`\" contains the top-rated 25 television shows in history, according to IMDB's viewers. The keys are the show titles, and the values are the average ratings. Load this into a Pandas **`Series`** (not `DataFrame`) called `tv`. (If you do this right, the keys of the `Series` should be the names of the shows, and the values of the `Series` should be the average ratings.)"
   ]
  },
  {
   "cell_type": "code",
   "execution_count": 0,
   "metadata": {
    "collapsed": false
   },
   "outputs": [
   ],
   "source": [
   ]
  },
  {
   "cell_type": "markdown",
   "metadata": {
    "collapsed": false
   },
   "source": [
    "Restrict your `tv` `Series` to only have the **top 10** rated shows. Then, add a new key/value pair to your `Series` for the show \"Keeping Up with the Kardashians\" (the lowest rated show in history, with an average IMDB rating of 2.5). There should now be exactly *eleven* key/value pairs in your `Series`."
   ]
  },
  {
   "cell_type": "code",
   "execution_count": 0,
   "metadata": {
    "collapsed": false
   },
   "outputs": [
   ],
   "source": [
   ]
  },
  {
   "cell_type": "markdown",
   "metadata": {
    "collapsed": false
   },
   "source": [
    "Create a labeled barplot that shows (only) the average rating for the **top 10** shows, **plus** \"Keeping Up with the Kardashians,\" in order from greatest (left) to suckiest (right). (To be clear, there should be 11 bars in your plot, with the tallest one (Planet Earth) on the far left and the shortest one (Kardashians) on the far right.)\n",
    "\n",
    "(Btw, to avoid wasting time, be careful about your capitalization on the Kardashians show. The checker script is looking for exactly the title as written above: three of the words are capitalized, and the other two are not.)"
   ]
  },
  {
   "cell_type": "code",
   "execution_count": 0,
   "metadata": {
    "collapsed": false
   },
   "outputs": [
   ],
   "source": [
   ]
  },
  {
   "cell_type": "markdown",
   "metadata": {
    "collapsed": false
   },
   "source": [
    "Finally, each lab partner should vote for their favorite show **of these top 25 rated shows** (or \"Kardashians\"). Express your votes in a two-element NumPy array called `tv_votes` which has the titles of the two shows you are voting for. (Yes, both team members may vote for the same show if they wish, by simply including the same title in both elements of `tv_votes`.)"
   ]
  },
  {
   "cell_type": "code",
   "execution_count": 0,
   "metadata": {
    "collapsed": false
   },
   "outputs": [
   ],
   "source": [
   ]
  },
  {
   "cell_type": "markdown",
   "metadata": {
    "collapsed": false
   },
   "source": [
    "# Women's rights are human rights\n",
    "\n",
    "_Trigger warning: this data set describes acts of domestic violence, and perceptions towards those acts._\n",
    "\n",
    "The file `violence.csv` contains aggregate survey information about how various people groups in Africa and Asia view acts of violence towards women and girls. (See https://data.world/makeovermonday/2020w10 for details.) There are eight columns in this CSV file, which are explained in [the data dictionary](http://stephendavies.org/violence.pdf).\n",
    "\n",
    "First, configure Pandas to let you see wider `DataFrame`s by typing and running these two lines:\n",
    "\n",
    "```\n",
    "pd.set_option(\"display.max_columns\",8)\n",
    "pd.set_option(\"display.width\",200)\n",
    "```\n",
    "\n",
    "(If your `DataFrames` look formatted strangely with the above settings, you may have to experiment with the numbers a bit.)"
   ]
  },
  {
   "cell_type": "code",
   "execution_count": 0,
   "metadata": {
    "collapsed": false
   },
   "outputs": [
   ],
   "source": [
   ]
  },
  {
   "cell_type": "markdown",
   "metadata": {
    "collapsed": false
   },
   "source": [
    "Next, read the file into a `DataFrame` called \"`v`\" (for \"violence\"). (Don't set any particular column as the index, since none of them are uniquely row-identifying.)"
   ]
  },
  {
   "cell_type": "code",
   "execution_count": 0,
   "metadata": {
    "collapsed": false
   },
   "outputs": [
   ],
   "source": [
   ]
  },
  {
   "cell_type": "markdown",
   "metadata": {
    "collapsed": false
   },
   "source": [
    "Print out your `DataFrame` and take a moment to run your eyeballs across it, to get an idea of what it contains. Run a few `.value_counts()` and `.mean()` operations to get a feel for its contents. Refer to the information in [the data dictionary](http://stephendavies.org/violence.pdf) as you work. Then, to make your life easier (and save typing), you may rename any columns you wish."
   ]
  },
  {
   "cell_type": "code",
   "execution_count": 0,
   "metadata": {
    "collapsed": false
   },
   "outputs": [
   ],
   "source": [
   ]
  },
  {
   "cell_type": "markdown",
   "metadata": {
    "collapsed": false
   },
   "source": [
    "How many nations are represented in this survey? Store the value in an int variable called `num_countries`."
   ]
  },
  {
   "cell_type": "code",
   "execution_count": 0,
   "metadata": {
    "collapsed": false
   },
   "outputs": [
   ],
   "source": [
   ]
  },
  {
   "cell_type": "markdown",
   "metadata": {
    "collapsed": false
   },
   "source": [
    "What was the earliest year in which this survey was conducted? And what was the latest year? Store these answers in int variables called `earliest_year` and `latest_year`, respectively."
   ]
  },
  {
   "cell_type": "code",
   "execution_count": 0,
   "metadata": {
    "collapsed": false
   },
   "outputs": [
   ],
   "source": [
   ]
  },
  {
   "cell_type": "markdown",
   "metadata": {
    "collapsed": false
   },
   "source": [
    "Overall, across all countries and years, which of the surveyed reasons do women most commonly agree justifies a husband hitting or beating his wife? And which of the reasons do women _least_ commonly agree justifies this behavior? Store your answers in string variables called `most_justifiable_reason` and `least_justifiable_reason`. (By the way, \"for at least one specific reason\" is **not** the correct answer for either of these. Rows with that value are general rows that aggregate _all_ of the different reasons for a particular country/demographic group.)"
   ]
  },
  {
   "cell_type": "code",
   "execution_count": 0,
   "metadata": {
    "collapsed": false
   },
   "outputs": [
   ],
   "source": [
   ]
  },
  {
   "cell_type": "markdown",
   "metadata": {
    "collapsed": false
   },
   "source": [
    "According to this survey, which country is the most dangerous for married women? And which country is the safest? (I'm defining \"most dangerous\" as the country with the highest percentage of respondents (of either sex) who think it is justifiable for a man to beat his wife for any reason.) Store your answers in two string variables called `most_dangerous_country` and `safest_country`.\n",
    "\n",
    "(Note: obviously the notions of \"most dangerous\" and \"safest\" involve far more things than just domestic violence, but I need variable names that are reasonably short to type.)"
   ]
  },
  {
   "cell_type": "code",
   "execution_count": 0,
   "metadata": {
    "collapsed": false
   },
   "outputs": [
   ],
   "source": [
   ]
  },
  {
   "cell_type": "markdown",
   "metadata": {
    "collapsed": false
   },
   "source": [
    "In these nations, who thinks wife-beating is more justified: men, or women? Or is there no statistically significant difference between the two? (Use only the \"for any specific reason\" rows to answer this question, since we're considering wife-beating in general here, not wife-beating specifically for arguing or burning food or whatever.) Show a plot, perform a statistical test, and write a couple of sentences in a Markdown cell that answer this question."
   ]
  },
  {
   "cell_type": "code",
   "execution_count": 0,
   "metadata": {
    "collapsed": false
   },
   "outputs": [
   ],
   "source": [
   ]
  },
  {
   "cell_type": "markdown",
   "metadata": {
    "collapsed": false
   },
   "source": [
    "In these nations, do married women, or unmarried women, more often believe that wife-beating is sometimes justified? Or is there no statistically significant difference between the two?  (Use only the \"for any specific reason\" rows to answer this question, since we're considering wife-beating in general here, not wife-beating specifically for arguing or burning food or whatever. Also, by \"married\" I mean \"married or co-habitating,\" and by \"unmarried\" I mean \"never married.\") Show a plot, perform a statistical test, and write a couple of sentences in a Markdown cell that answer this question."
   ]
  },
  {
   "cell_type": "code",
   "execution_count": 0,
   "metadata": {
    "collapsed": false
   },
   "outputs": [
   ],
   "source": [
   ]
  },
  {
   "cell_type": "markdown",
   "metadata": {
    "collapsed": false
   },
   "source": [
    "# Make mine Supreme\n",
    "\n",
    "Nominees to the Supreme Court these days face highly contentious confirmation hearings. Amy Coney Barrett was confirmed this week by a 52-48 Senate vote, strictly along party lines (all Republicans voted in favor, and all Democrats voted against). Last year, Brett Kavanaugh was confirmed 50-48 in similar fashion.\n",
    "\n",
    "The two justices they replaced -- Ruth Bader Ginsburg and Antonin Scalia -- were selected for the court decades ago. It might surprise you to learn (as it did me) that RBG, a hero to the Left, was confirmed by a Senate vote of 96-3. And Scalia, possibly the most conservative justice in the nation's history, was confirmed 98-0.\n",
    "\n",
    "This makes me wonder whether Supreme Court confirmations in general are getting more polarized and more contentious in recent years. Are they? Use the file `supreme.csv` (pulled from https://www.senate.gov/legislative/nominations/SupremeCourtNominations1789present.htm) to find out.\n",
    "\n",
    "(Yep, this is the end of the instructions. You and your partner are going to need to put your heads together and do some deep data science thinking to figure out how to apply what you've learned, and to answer this question fully and convincingly. You may produce plot(s), run statistical test(s), and write explanatory text in a Markdown cell that presents your conclusions.)"
   ]
  },
  {
   "cell_type": "code",
   "execution_count": 0,
   "metadata": {
    "collapsed": false
   },
   "outputs": [
   ],
   "source": [
   ]
  },
  {
   "cell_type": "markdown",
   "metadata": {
    "collapsed": false
   },
   "source": [
    "# Check out\n",
    "Nice job! Now run the test script below to see if it all worked! (If not, go back and fix your errors.)"
   ]
  },
  {
   "cell_type": "code",
   "execution_count": 0,
   "metadata": {
    "collapsed": false
   },
   "outputs": [
   ],
   "source": [
    "import requests\n",
    "exec(requests.get(\"http://stephendavies.org/lab5checker.py\").content)"
   ]
  },
  {
   "cell_type": "code",
   "execution_count": 0,
   "metadata": {
    "collapsed": false
   },
   "outputs": [
   ],
   "source": [
   ]
  }
 ],
 "metadata": {
  "kernelspec": {
   "display_name": "Python 3 (Anaconda 2020)",
   "env": {
    "ADDR2LINE": "/ext/anaconda2020.02/bin/x86_64-conda_cos6-linux-gnu-addr2line",
    "ANACONDA2019": "$EXT/anaconda-2019.03",
    "ANACONDA2020": "/ext/anaconda2020.02",
    "ANACONDA3": "$EXT/anaconda3",
    "ANACONDA5": "$EXT/anaconda5",
    "AR": "/ext/anaconda2020.02/bin/x86_64-conda_cos6-linux-gnu-ar",
    "AS": "/ext/anaconda2020.02/bin/x86_64-conda_cos6-linux-gnu-as",
    "CC": "/ext/anaconda2020.02/bin/x86_64-conda_cos6-linux-gnu-cc",
    "CFLAGS": "-march=nocona -mtune=haswell -ftree-vectorize -fPIC -fstack-protector-strong -fno-plt -O2 -ffunction-sections -pipe -isystem /ext/anaconda2020.02/include",
    "CMAKE_PREFIX_PATH": "/ext/anaconda2020.02:/ext/anaconda2020.02/x86_64-conda_cos6-linux-gnu/sysroot/usr",
    "CONDA_BACKUP_HOST": "x86_64-conda_cos6-linux-gnu",
    "CONDA_BUILD_SYSROOT": "/ext/anaconda2020.02/x86_64-conda_cos6-linux-gnu/sysroot",
    "CONDA_DEFAULT_ENV": "base",
    "CONDA_EXE": "/ext/anaconda2020.02/bin/conda",
    "CONDA_MKL_INTERFACE_LAYER_BACKUP": "",
    "CONDA_PREFIX": "/ext/anaconda2020.02",
    "CONDA_PROMPT_MODIFIER": "(base) ",
    "CONDA_PYTHON_EXE": "/ext/anaconda2020.02/bin/python",
    "CONDA_SHLVL": "1",
    "CPP": "/ext/anaconda2020.02/bin/x86_64-conda_cos6-linux-gnu-cpp",
    "CPPFLAGS": "-DNDEBUG -D_FORTIFY_SOURCE=2 -O2 -isystem /ext/anaconda2020.02/include",
    "CXX": "/ext/anaconda2020.02/bin/x86_64-conda_cos6-linux-gnu-c++",
    "CXXFILT": "/ext/anaconda2020.02/bin/x86_64-conda_cos6-linux-gnu-c++filt",
    "CXXFLAGS": "-fvisibility-inlines-hidden -std=c++17 -fmessage-length=0 -march=nocona -mtune=haswell -ftree-vectorize -fPIC -fstack-protector-strong -fno-plt -O2 -ffunction-sections -pipe -isystem /ext/anaconda2020.02/include",
    "DEBUG_CFLAGS": "-march=nocona -mtune=haswell -ftree-vectorize -fPIC -fstack-protector-all -fno-plt -Og -g -Wall -Wextra -fvar-tracking-assignments -ffunction-sections -pipe -isystem /ext/anaconda2020.02/include",
    "DEBUG_CPPFLAGS": "-D_DEBUG -D_FORTIFY_SOURCE=2 -Og -isystem /ext/anaconda2020.02/include",
    "DEBUG_CXXFLAGS": "-fvisibility-inlines-hidden -std=c++17 -fmessage-length=0 -march=nocona -mtune=haswell -ftree-vectorize -fPIC -fstack-protector-all -fno-plt -Og -g -Wall -Wextra -fvar-tracking-assignments -ffunction-sections -pipe -isystem /ext/anaconda2020.02/include",
    "DEBUG_FFLAGS": "-fopenmp -march=nocona -mtune=haswell -ftree-vectorize -fPIC -fstack-protector-strong -fno-plt -O2 -ffunction-sections -pipe -isystem /ext/anaconda2020.02/include -fopenmp -march=nocona -mtune=haswell -ftree-vectorize -fPIC -fstack-protector-all -fno-plt -Og -g -Wall -Wextra -fcheck=all -fbacktrace -fimplicit-none -fvar-tracking-assignments -ffunction-sections -pipe",
    "DEBUG_FORTRANFLAGS": "-fopenmp -march=nocona -mtune=haswell -ftree-vectorize -fPIC -fstack-protector-strong -fno-plt -O2 -ffunction-sections -pipe -isystem /ext/anaconda2020.02/include -fopenmp -march=nocona -mtune=haswell -ftree-vectorize -fPIC -fstack-protector-all -fno-plt -Og -g -Wall -Wextra -fcheck=all -fbacktrace -fimplicit-none -fvar-tracking-assignments -ffunction-sections -pipe",
    "ELFEDIT": "/ext/anaconda2020.02/bin/x86_64-conda_cos6-linux-gnu-elfedit",
    "F77": "/ext/anaconda2020.02/bin/x86_64-conda_cos6-linux-gnu-gfortran",
    "F90": "/ext/anaconda2020.02/bin/x86_64-conda_cos6-linux-gnu-gfortran",
    "F95": "/ext/anaconda2020.02/bin/x86_64-conda_cos6-linux-gnu-f95",
    "FC": "/ext/anaconda2020.02/bin/x86_64-conda_cos6-linux-gnu-gfortran",
    "FFLAGS": "-fopenmp -march=nocona -mtune=haswell -ftree-vectorize -fPIC -fstack-protector-strong -fno-plt -O2 -ffunction-sections -pipe -isystem /ext/anaconda2020.02/include",
    "FORTRANFLAGS": "-fopenmp -march=nocona -mtune=haswell -ftree-vectorize -fPIC -fstack-protector-strong -fno-plt -O2 -ffunction-sections -pipe -isystem /ext/anaconda2020.02/include",
    "GCC": "/ext/anaconda2020.02/bin/x86_64-conda_cos6-linux-gnu-gcc",
    "GCC_AR": "/ext/anaconda2020.02/bin/x86_64-conda_cos6-linux-gnu-gcc-ar",
    "GCC_NM": "/ext/anaconda2020.02/bin/x86_64-conda_cos6-linux-gnu-gcc-nm",
    "GCC_RANLIB": "/ext/anaconda2020.02/bin/x86_64-conda_cos6-linux-gnu-gcc-ranlib",
    "GDAL_DATA": "/ext/anaconda2020.02/share/gdal",
    "GFORTRAN": "/ext/anaconda2020.02/bin/x86_64-conda_cos6-linux-gnu-gfortran",
    "GPROF": "/ext/anaconda2020.02/bin/x86_64-conda_cos6-linux-gnu-gprof",
    "GXX": "/ext/anaconda2020.02/bin/x86_64-conda_cos6-linux-gnu-g++",
    "JAVA_HOME": "/ext/anaconda2020.02",
    "JAVA_HOME_CONDA_BACKUP": "",
    "JAVA_LD_LIBRARY_PATH": "/ext/anaconda2020.02/lib/server",
    "LD": "/ext/anaconda2020.02/bin/x86_64-conda_cos6-linux-gnu-ld",
    "LDFLAGS": "-Wl,-O2 -Wl,--sort-common -Wl,--as-needed -Wl,-z,relro -Wl,-z,now -Wl,--disable-new-dtags -Wl,--gc-sections -Wl,-rpath,/ext/anaconda2020.02/lib -Wl,-rpath-link,/ext/anaconda2020.02/lib -L/ext/anaconda2020.02/lib",
    "LD_GOLD": "/ext/anaconda2020.02/bin/x86_64-conda_cos6-linux-gnu-ld.gold",
    "LD_LIBRARY_PATH": "/ext/anaconda2020.02/lib",
    "MKL_INTERFACE_LAYER": "LP64,GNU",
    "MKL_THREADING_LAYER": "GNU",
    "NM": "/ext/anaconda2020.02/bin/x86_64-conda_cos6-linux-gnu-nm",
    "OBJCOPY": "/ext/anaconda2020.02/bin/x86_64-conda_cos6-linux-gnu-objcopy",
    "OBJDUMP": "/ext/anaconda2020.02/bin/x86_64-conda_cos6-linux-gnu-objdump",
    "OLDPWD": "/ext/anaconda2020.02",
    "PATH": "/ext/anaconda2020.02/bin:/ext/anaconda2020.02/bin:/ext/anaconda2020.02/condabin:/cocalc/bin:/cocalc/src/smc-project/bin:/home/salvus/bin:/home/salvus/.local/bin:/usr/lib/xpra:/ext/bin:/opt/ghc/bin:/usr/local/sbin:/usr/local/bin:/usr/sbin:/usr/bin:/sbin:/bin:/snap/bin:/usr/lib/postgresql/10/bin:/ext/data/homer/bin:/ext/data/weblogo",
    "PROJ_LIB": "/ext/anaconda2020.02/share/proj",
    "RANLIB": "/ext/anaconda2020.02/bin/x86_64-conda_cos6-linux-gnu-ranlib",
    "READELF": "/ext/anaconda2020.02/bin/x86_64-conda_cos6-linux-gnu-readelf",
    "RSTUDIO_WHICH_R": "/ext/anaconda2020.02/bin/R",
    "SIZE": "/ext/anaconda2020.02/bin/x86_64-conda_cos6-linux-gnu-size",
    "STRINGS": "/ext/anaconda2020.02/bin/x86_64-conda_cos6-linux-gnu-strings",
    "STRIP": "/ext/anaconda2020.02/bin/x86_64-conda_cos6-linux-gnu-strip",
    "_CE_CONDA": "",
    "_CE_M": "",
    "_CONDA_PYTHON_SYSCONFIGDATA_NAME": "_sysconfigdata_x86_64_conda_cos6_linux_gnu"
   },
   "language": "python",
   "metadata": {
    "cocalc": {
     "description": "Python/R distribution for data science",
     "priority": 5,
     "url": "https://www.anaconda.com/distribution/"
    }
   },
   "name": "anaconda2020"
  },
  "language_info": {
   "codemirror_mode": {
    "name": "ipython",
    "version": 3
   },
   "file_extension": ".py",
   "mimetype": "text/x-python",
   "name": "python",
   "nbconvert_exporter": "python",
   "pygments_lexer": "ipython3",
   "version": "3.7.8"
  }
 },
 "nbformat": 4,
 "nbformat_minor": 4
}